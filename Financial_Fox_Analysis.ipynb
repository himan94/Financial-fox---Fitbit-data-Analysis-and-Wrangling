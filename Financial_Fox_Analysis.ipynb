{
 "cells": [
  {
   "cell_type": "markdown",
   "metadata": {},
   "source": [
    "Let's start by importing the dataset"
   ]
  },
  {
   "cell_type": "code",
   "execution_count": 80,
   "metadata": {},
   "outputs": [],
   "source": [
    "mydata = read.csv(\"fitbit_cleaned.csv\",stringsAsFactors = FALSE)"
   ]
  },
  {
   "cell_type": "code",
   "execution_count": 81,
   "metadata": {},
   "outputs": [
    {
     "data": {
      "text/html": [
       "<table>\n",
       "<thead><tr><th scope=col>X</th><th scope=col>Date</th><th scope=col>Calories</th><th scope=col>Steps</th><th scope=col>Distance</th><th scope=col>floors</th><th scope=col>Minutes_sitting</th><th scope=col>Minutes_of_slow_activity</th><th scope=col>Minutes_of_moderate_activity</th><th scope=col>Minutes_of_intense_activity</th><th scope=col>Calories_Activity</th></tr></thead>\n",
       "<tbody>\n",
       "\t<tr><td>0         </td><td>08-05-2015</td><td>1.934     </td><td>  905     </td><td> 0.65     </td><td> 0        </td><td>  1.355   </td><td> 46       </td><td> 0        </td><td> 0        </td><td> 168      </td></tr>\n",
       "\t<tr><td>1         </td><td>09-05-2015</td><td>3.631     </td><td>18925     </td><td>14.11     </td><td> 4        </td><td>611.000   </td><td>316       </td><td>61        </td><td>60        </td><td>2248      </td></tr>\n",
       "\t<tr><td>2         </td><td>10-05-2015</td><td>3.204     </td><td>14228     </td><td>10.57     </td><td> 1        </td><td>602.000   </td><td>226       </td><td>14        </td><td>77        </td><td>1719      </td></tr>\n",
       "\t<tr><td>3         </td><td>11-05-2015</td><td>2.673     </td><td> 6756     </td><td> 5.02     </td><td> 8        </td><td>749.000   </td><td>190       </td><td>23        </td><td> 4        </td><td> 962      </td></tr>\n",
       "\t<tr><td>4         </td><td>12-05-2015</td><td>2.495     </td><td> 5020     </td><td> 3.73     </td><td> 1        </td><td>876.000   </td><td>171       </td><td> 0        </td><td> 0        </td><td> 736      </td></tr>\n",
       "\t<tr><td>5         </td><td>13-05-2015</td><td>2.760     </td><td> 7790     </td><td> 5.79     </td><td>15        </td><td>726.000   </td><td>172       </td><td>34        </td><td>18        </td><td>1094      </td></tr>\n",
       "</tbody>\n",
       "</table>\n"
      ],
      "text/latex": [
       "\\begin{tabular}{r|lllllllllll}\n",
       " X & Date & Calories & Steps & Distance & floors & Minutes\\_sitting & Minutes\\_of\\_slow\\_activity & Minutes\\_of\\_moderate\\_activity & Minutes\\_of\\_intense\\_activity & Calories\\_Activity\\\\\n",
       "\\hline\n",
       "\t 0          & 08-05-2015 & 1.934      &   905      &  0.65      &  0         &   1.355    &  46        &  0         &  0         &  168      \\\\\n",
       "\t 1          & 09-05-2015 & 3.631      & 18925      & 14.11      &  4         & 611.000    & 316        & 61         & 60         & 2248      \\\\\n",
       "\t 2          & 10-05-2015 & 3.204      & 14228      & 10.57      &  1         & 602.000    & 226        & 14         & 77         & 1719      \\\\\n",
       "\t 3          & 11-05-2015 & 2.673      &  6756      &  5.02      &  8         & 749.000    & 190        & 23         &  4         &  962      \\\\\n",
       "\t 4          & 12-05-2015 & 2.495      &  5020      &  3.73      &  1         & 876.000    & 171        &  0         &  0         &  736      \\\\\n",
       "\t 5          & 13-05-2015 & 2.760      &  7790      &  5.79      & 15         & 726.000    & 172        & 34         & 18         & 1094      \\\\\n",
       "\\end{tabular}\n"
      ],
      "text/markdown": [
       "\n",
       "X | Date | Calories | Steps | Distance | floors | Minutes_sitting | Minutes_of_slow_activity | Minutes_of_moderate_activity | Minutes_of_intense_activity | Calories_Activity | \n",
       "|---|---|---|---|---|---|\n",
       "| 0          | 08-05-2015 | 1.934      |   905      |  0.65      |  0         |   1.355    |  46        |  0         |  0         |  168       | \n",
       "| 1          | 09-05-2015 | 3.631      | 18925      | 14.11      |  4         | 611.000    | 316        | 61         | 60         | 2248       | \n",
       "| 2          | 10-05-2015 | 3.204      | 14228      | 10.57      |  1         | 602.000    | 226        | 14         | 77         | 1719       | \n",
       "| 3          | 11-05-2015 | 2.673      |  6756      |  5.02      |  8         | 749.000    | 190        | 23         |  4         |  962       | \n",
       "| 4          | 12-05-2015 | 2.495      |  5020      |  3.73      |  1         | 876.000    | 171        |  0         |  0         |  736       | \n",
       "| 5          | 13-05-2015 | 2.760      |  7790      |  5.79      | 15         | 726.000    | 172        | 34         | 18         | 1094       | \n",
       "\n",
       "\n"
      ],
      "text/plain": [
       "  X Date       Calories Steps Distance floors Minutes_sitting\n",
       "1 0 08-05-2015 1.934      905  0.65     0       1.355        \n",
       "2 1 09-05-2015 3.631    18925 14.11     4     611.000        \n",
       "3 2 10-05-2015 3.204    14228 10.57     1     602.000        \n",
       "4 3 11-05-2015 2.673     6756  5.02     8     749.000        \n",
       "5 4 12-05-2015 2.495     5020  3.73     1     876.000        \n",
       "6 5 13-05-2015 2.760     7790  5.79    15     726.000        \n",
       "  Minutes_of_slow_activity Minutes_of_moderate_activity\n",
       "1  46                       0                          \n",
       "2 316                      61                          \n",
       "3 226                      14                          \n",
       "4 190                      23                          \n",
       "5 171                       0                          \n",
       "6 172                      34                          \n",
       "  Minutes_of_intense_activity Calories_Activity\n",
       "1  0                           168             \n",
       "2 60                          2248             \n",
       "3 77                          1719             \n",
       "4  4                           962             \n",
       "5  0                           736             \n",
       "6 18                          1094             "
      ]
     },
     "metadata": {},
     "output_type": "display_data"
    }
   ],
   "source": [
    "head(mydata)"
   ]
  },
  {
   "cell_type": "markdown",
   "metadata": {},
   "source": [
    "Removing the first two columns as they do not serve any purpose"
   ]
  },
  {
   "cell_type": "code",
   "execution_count": 82,
   "metadata": {},
   "outputs": [],
   "source": [
    "mydata = mydata[c(-1,-2)]"
   ]
  },
  {
   "cell_type": "code",
   "execution_count": 83,
   "metadata": {},
   "outputs": [
    {
     "data": {
      "image/png": "[encoded data removed]",
      "text/plain": [
       "plot without title"
      ]
     },
     "metadata": {},
     "output_type": "display_data"
    }
   ],
   "source": [
    "pairs(mydata)"
   ]
  },
  {
   "cell_type": "markdown",
   "metadata": {},
   "source": [
    "Pair plot tells us about the corelation between variables.\n",
    "\n",
    "Some of the strong corelations are - \n",
    "\n",
    "Calories - Steps, Steps - distance, calories - calories_activity and so on\n",
    "\n",
    "This says that there would be an issue of <span style=\"color:red\">Multicolinearity</span>"
   ]
  },
  {
   "cell_type": "markdown",
   "metadata": {},
   "source": [
    "## Purpose"
   ]
  },
  {
   "cell_type": "markdown",
   "metadata": {},
   "source": [
    "Predict <span style=\"color:red\">Calories_activity</span> using Machine learning algorithms"
   ]
  },
  {
   "cell_type": "markdown",
   "metadata": {},
   "source": [
    "## Possible models"
   ]
  },
  {
   "cell_type": "markdown",
   "metadata": {},
   "source": [
    "To deal with the issue of issue of multicolinearity, we can use two of the below methods \n",
    "\n",
    "1. <span style=\"color:green\">Linear regression with regularization</span> - Lasso, Ridge\n",
    "\n",
    "\n",
    "2. <span style=\"color:blue\">Principal component regression</span> (PCR)"
   ]
  },
  {
   "cell_type": "markdown",
   "metadata": {},
   "source": [
    "## PCR"
   ]
  },
  {
   "cell_type": "markdown",
   "metadata": {},
   "source": [
    "Let's start with PCA to see the amount of Variance explained by the components"
   ]
  },
  {
   "cell_type": "code",
   "execution_count": 84,
   "metadata": {},
   "outputs": [
    {
     "data": {
      "text/plain": [
       "Importance of components:\n",
       "                          PC1    PC2    PC3     PC4     PC5     PC6     PC7\n",
       "Standard deviation     2.0394 1.1623 0.9649 0.87127 0.79423 0.36782 0.18080\n",
       "Proportion of Variance 0.5199 0.1689 0.1164 0.09489 0.07885 0.01691 0.00409\n",
       "Cumulative Proportion  0.5199 0.6888 0.8052 0.90005 0.97890 0.99581 0.99990\n",
       "                           PC8\n",
       "Standard deviation     0.02834\n",
       "Proportion of Variance 0.00010\n",
       "Cumulative Proportion  1.00000"
      ]
     },
     "metadata": {},
     "output_type": "display_data"
    }
   ],
   "source": [
    "mydata.pr <- prcomp(mydata[c(1:8)], center = TRUE, scale = TRUE)\n",
    "summary(mydata.pr)"
   ]
  },
  {
   "cell_type": "markdown",
   "metadata": {},
   "source": [
    "The first 4 principal components explain 90% of the variance\n",
    "\n",
    "Also the first 5 PC's explain 98% of the variance"
   ]
  },
  {
   "cell_type": "code",
   "execution_count": 85,
   "metadata": {},
   "outputs": [
    {
     "data": {
      "text/html": [
       "367"
      ],
      "text/latex": [
       "367"
      ],
      "text/markdown": [
       "367"
      ],
      "text/plain": [
       "[1] 367"
      ]
     },
     "metadata": {},
     "output_type": "display_data"
    }
   ],
   "source": [
    "nrow(mydata)"
   ]
  },
  {
   "cell_type": "code",
   "execution_count": 86,
   "metadata": {},
   "outputs": [
    {
     "data": {
      "text/html": [
       "367"
      ],
      "text/latex": [
       "367"
      ],
      "text/markdown": [
       "367"
      ],
      "text/plain": [
       "[1] 367"
      ]
     },
     "metadata": {},
     "output_type": "display_data"
    }
   ],
   "source": [
    "nrow(mydata.pr$x)"
   ]
  },
  {
   "cell_type": "markdown",
   "metadata": {},
   "source": [
    "We will use the top 4 in this case"
   ]
  },
  {
   "cell_type": "code",
   "execution_count": 109,
   "metadata": {},
   "outputs": [
    {
     "data": {
      "text/html": [
       "<table>\n",
       "<thead><tr><th scope=col>PC1</th><th scope=col>PC2</th><th scope=col>PC3</th><th scope=col>PC4</th></tr></thead>\n",
       "<tbody>\n",
       "\t<tr><td>-5.23956541</td><td> 1.42430797</td><td> 1.07252192</td><td> 0.21694813</td></tr>\n",
       "\t<tr><td> 3.02965490</td><td>-0.64239488</td><td> 0.30947517</td><td>-1.39569707</td></tr>\n",
       "\t<tr><td> 0.88797426</td><td>-0.31598667</td><td> 0.47828883</td><td> 0.70201008</td></tr>\n",
       "\t<tr><td>-1.97214256</td><td>-0.13884412</td><td>-0.93391523</td><td>-0.16890575</td></tr>\n",
       "\t<tr><td>-3.02331511</td><td>-0.71520248</td><td>-1.08081970</td><td> 0.66788909</td></tr>\n",
       "\t<tr><td>-1.24722236</td><td> 0.59734027</td><td>-1.06867512</td><td>-0.29017560</td></tr>\n",
       "\t<tr><td>-2.40551675</td><td>-0.80952758</td><td>-0.82323998</td><td>-0.00881238</td></tr>\n",
       "\t<tr><td>-1.44940474</td><td>-0.40023632</td><td>-0.86598060</td><td> 0.69126262</td></tr>\n",
       "\t<tr><td> 5.04564641</td><td> 1.62734464</td><td>-0.11710254</td><td>-2.24567997</td></tr>\n",
       "\t<tr><td> 0.33995621</td><td> 0.99100858</td><td>-0.54333707</td><td>-0.64617913</td></tr>\n",
       "\t<tr><td> 0.32738061</td><td> 0.41814620</td><td>-1.25053744</td><td> 1.06924827</td></tr>\n",
       "\t<tr><td> 0.20958392</td><td> 0.32132950</td><td>-0.78071320</td><td> 0.89616142</td></tr>\n",
       "\t<tr><td>-2.29377889</td><td>-0.45017156</td><td>-0.96833483</td><td> 0.13169356</td></tr>\n",
       "\t<tr><td> 1.85863274</td><td> 0.54230009</td><td>-0.19928889</td><td>-0.41335490</td></tr>\n",
       "\t<tr><td>-2.34091841</td><td>-0.27018451</td><td>-1.10714453</td><td> 0.27776748</td></tr>\n",
       "\t<tr><td> 4.70537833</td><td> 1.28127805</td><td> 0.11288071</td><td>-1.36866430</td></tr>\n",
       "\t<tr><td> 2.75602927</td><td> 0.58794852</td><td> 0.20324580</td><td> 0.38692836</td></tr>\n",
       "\t<tr><td>-2.74833598</td><td>-0.62192233</td><td>-1.11334244</td><td> 0.80233000</td></tr>\n",
       "\t<tr><td>-3.58429175</td><td> 0.60315778</td><td> 1.43526205</td><td> 0.26666058</td></tr>\n",
       "\t<tr><td> 0.08750995</td><td> 1.19082431</td><td>-1.25035264</td><td>-1.41875430</td></tr>\n",
       "\t<tr><td>-1.31406878</td><td>-0.27303647</td><td>-0.75268127</td><td> 0.74224533</td></tr>\n",
       "\t<tr><td>-2.59804042</td><td>-0.63517757</td><td>-0.83710881</td><td> 0.75847316</td></tr>\n",
       "\t<tr><td> 5.27630304</td><td> 1.32260662</td><td> 0.71107390</td><td> 0.01947250</td></tr>\n",
       "\t<tr><td> 3.08626460</td><td> 0.26655045</td><td>-0.42283465</td><td>-2.25582261</td></tr>\n",
       "\t<tr><td> 1.98041179</td><td>-0.02878812</td><td> 0.34769483</td><td>-0.02388302</td></tr>\n",
       "\t<tr><td> 2.26571157</td><td> 1.09898019</td><td>-0.06226414</td><td> 1.64815057</td></tr>\n",
       "\t<tr><td> 1.17584158</td><td> 0.55959296</td><td>-0.17838698</td><td> 1.15777614</td></tr>\n",
       "\t<tr><td> 2.08754290</td><td> 0.05542553</td><td>-0.21571040</td><td>-0.03258097</td></tr>\n",
       "\t<tr><td> 0.96436531</td><td> 0.47742150</td><td>-0.42037861</td><td> 0.01656399</td></tr>\n",
       "\t<tr><td> 1.99186241</td><td> 0.53055672</td><td>-0.14660370</td><td>-2.14639434</td></tr>\n",
       "\t<tr><td>...</td><td>...</td><td>...</td><td>...</td></tr>\n",
       "\t<tr><td> 0.1663381  </td><td>-2.78960895 </td><td> 1.32377152 </td><td> 0.200448506</td></tr>\n",
       "\t<tr><td>-0.8904782  </td><td>-2.44266659 </td><td> 0.77658712 </td><td> 0.175448336</td></tr>\n",
       "\t<tr><td>-2.7885946  </td><td> 0.50834515 </td><td>-1.83196485 </td><td>-0.851300622</td></tr>\n",
       "\t<tr><td> 2.6072852  </td><td> 0.29224554 </td><td>-0.04714165 </td><td> 1.535426384</td></tr>\n",
       "\t<tr><td> 1.0000936  </td><td>-0.66842034 </td><td> 0.17071568 </td><td> 0.941592572</td></tr>\n",
       "\t<tr><td> 2.5388167  </td><td>-0.13128705 </td><td> 0.23244711 </td><td> 1.532289569</td></tr>\n",
       "\t<tr><td> 2.8929423  </td><td> 0.30065752 </td><td> 0.24003560 </td><td> 1.645936301</td></tr>\n",
       "\t<tr><td> 1.7070025  </td><td>-1.93289907 </td><td> 0.98272553 </td><td>-0.402624443</td></tr>\n",
       "\t<tr><td> 1.2702497  </td><td>-0.91917858 </td><td>-0.29744021 </td><td>-1.767704234</td></tr>\n",
       "\t<tr><td>-1.9885367  </td><td>-0.91632226 </td><td> 2.05001086 </td><td> 0.027163795</td></tr>\n",
       "\t<tr><td> 2.9505633  </td><td> 0.35910508 </td><td>-0.18437775 </td><td> 2.115576673</td></tr>\n",
       "\t<tr><td> 2.3157091  </td><td> 0.51119156 </td><td> 2.51071859 </td><td> 1.287023204</td></tr>\n",
       "\t<tr><td> 2.0437754  </td><td> 0.18028321 </td><td>-0.16160945 </td><td> 1.863957471</td></tr>\n",
       "\t<tr><td> 2.9959868  </td><td> 0.57215058 </td><td> 0.12535722 </td><td> 2.080994174</td></tr>\n",
       "\t<tr><td> 0.6104733  </td><td>-2.06968022 </td><td> 1.12539855 </td><td>-0.167562675</td></tr>\n",
       "\t<tr><td>-2.1598379  </td><td>-1.52613175 </td><td>-0.55606300 </td><td> 0.567056067</td></tr>\n",
       "\t<tr><td>-0.5358167  </td><td>-0.67281055 </td><td>-0.38912513 </td><td>-0.304749838</td></tr>\n",
       "\t<tr><td>-0.3592999  </td><td>-2.77409519 </td><td> 0.38992401 </td><td>-0.181549060</td></tr>\n",
       "\t<tr><td> 2.3228076  </td><td> 0.76891250 </td><td>-0.18324373 </td><td> 1.536282468</td></tr>\n",
       "\t<tr><td> 3.8189868  </td><td> 1.69674618 </td><td>-0.02868471 </td><td> 1.640555048</td></tr>\n",
       "\t<tr><td> 5.7373808  </td><td> 0.19458968 </td><td> 0.88759595 </td><td> 0.557891160</td></tr>\n",
       "\t<tr><td> 2.2385542  </td><td> 0.03490825 </td><td> 0.59390646 </td><td> 1.470551463</td></tr>\n",
       "\t<tr><td>-0.8488250  </td><td>-2.61503643 </td><td> 0.69670061 </td><td> 0.156633923</td></tr>\n",
       "\t<tr><td> 1.1478640  </td><td>-1.58433052 </td><td> 0.32098718 </td><td> 0.004920661</td></tr>\n",
       "\t<tr><td> 0.2291718  </td><td>-0.44564715 </td><td>-0.31076547 </td><td> 1.046861814</td></tr>\n",
       "\t<tr><td> 3.4402169  </td><td> 0.20884094 </td><td> 0.23716395 </td><td>-0.382017499</td></tr>\n",
       "\t<tr><td> 2.0712608  </td><td>-1.01023177 </td><td> 0.33381405 </td><td> 1.013744026</td></tr>\n",
       "\t<tr><td> 3.9752940  </td><td>-0.05050677 </td><td> 0.31485951 </td><td> 0.888018933</td></tr>\n",
       "\t<tr><td> 2.8928071  </td><td>-0.45301296 </td><td> 0.87762814 </td><td> 1.446274696</td></tr>\n",
       "\t<tr><td>-0.7477836  </td><td>-1.91891698 </td><td> 0.42353033 </td><td>-0.226723698</td></tr>\n",
       "</tbody>\n",
       "</table>\n"
      ],
      "text/latex": [
       "\\begin{tabular}{llll}\n",
       " PC1 & PC2 & PC3 & PC4\\\\\n",
       "\\hline\n",
       "\t -5.23956541 &  1.42430797 &  1.07252192 &  0.21694813\\\\\n",
       "\t  3.02965490 & -0.64239488 &  0.30947517 & -1.39569707\\\\\n",
       "\t  0.88797426 & -0.31598667 &  0.47828883 &  0.70201008\\\\\n",
       "\t -1.97214256 & -0.13884412 & -0.93391523 & -0.16890575\\\\\n",
       "\t -3.02331511 & -0.71520248 & -1.08081970 &  0.66788909\\\\\n",
       "\t -1.24722236 &  0.59734027 & -1.06867512 & -0.29017560\\\\\n",
       "\t -2.40551675 & -0.80952758 & -0.82323998 & -0.00881238\\\\\n",
       "\t -1.44940474 & -0.40023632 & -0.86598060 &  0.69126262\\\\\n",
       "\t  5.04564641 &  1.62734464 & -0.11710254 & -2.24567997\\\\\n",
       "\t  0.33995621 &  0.99100858 & -0.54333707 & -0.64617913\\\\\n",
       "\t  0.32738061 &  0.41814620 & -1.25053744 &  1.06924827\\\\\n",
       "\t  0.20958392 &  0.32132950 & -0.78071320 &  0.89616142\\\\\n",
       "\t -2.29377889 & -0.45017156 & -0.96833483 &  0.13169356\\\\\n",
       "\t  1.85863274 &  0.54230009 & -0.19928889 & -0.41335490\\\\\n",
       "\t -2.34091841 & -0.27018451 & -1.10714453 &  0.27776748\\\\\n",
       "\t  4.70537833 &  1.28127805 &  0.11288071 & -1.36866430\\\\\n",
       "\t  2.75602927 &  0.58794852 &  0.20324580 &  0.38692836\\\\\n",
       "\t -2.74833598 & -0.62192233 & -1.11334244 &  0.80233000\\\\\n",
       "\t -3.58429175 &  0.60315778 &  1.43526205 &  0.26666058\\\\\n",
       "\t  0.08750995 &  1.19082431 & -1.25035264 & -1.41875430\\\\\n",
       "\t -1.31406878 & -0.27303647 & -0.75268127 &  0.74224533\\\\\n",
       "\t -2.59804042 & -0.63517757 & -0.83710881 &  0.75847316\\\\\n",
       "\t  5.27630304 &  1.32260662 &  0.71107390 &  0.01947250\\\\\n",
       "\t  3.08626460 &  0.26655045 & -0.42283465 & -2.25582261\\\\\n",
       "\t  1.98041179 & -0.02878812 &  0.34769483 & -0.02388302\\\\\n",
       "\t  2.26571157 &  1.09898019 & -0.06226414 &  1.64815057\\\\\n",
       "\t  1.17584158 &  0.55959296 & -0.17838698 &  1.15777614\\\\\n",
       "\t  2.08754290 &  0.05542553 & -0.21571040 & -0.03258097\\\\\n",
       "\t  0.96436531 &  0.47742150 & -0.42037861 &  0.01656399\\\\\n",
       "\t  1.99186241 &  0.53055672 & -0.14660370 & -2.14639434\\\\\n",
       "\t ... & ... & ... & ...\\\\\n",
       "\t  0.1663381   & -2.78960895  &  1.32377152  &  0.200448506\\\\\n",
       "\t -0.8904782   & -2.44266659  &  0.77658712  &  0.175448336\\\\\n",
       "\t -2.7885946   &  0.50834515  & -1.83196485  & -0.851300622\\\\\n",
       "\t  2.6072852   &  0.29224554  & -0.04714165  &  1.535426384\\\\\n",
       "\t  1.0000936   & -0.66842034  &  0.17071568  &  0.941592572\\\\\n",
       "\t  2.5388167   & -0.13128705  &  0.23244711  &  1.532289569\\\\\n",
       "\t  2.8929423   &  0.30065752  &  0.24003560  &  1.645936301\\\\\n",
       "\t  1.7070025   & -1.93289907  &  0.98272553  & -0.402624443\\\\\n",
       "\t  1.2702497   & -0.91917858  & -0.29744021  & -1.767704234\\\\\n",
       "\t -1.9885367   & -0.91632226  &  2.05001086  &  0.027163795\\\\\n",
       "\t  2.9505633   &  0.35910508  & -0.18437775  &  2.115576673\\\\\n",
       "\t  2.3157091   &  0.51119156  &  2.51071859  &  1.287023204\\\\\n",
       "\t  2.0437754   &  0.18028321  & -0.16160945  &  1.863957471\\\\\n",
       "\t  2.9959868   &  0.57215058  &  0.12535722  &  2.080994174\\\\\n",
       "\t  0.6104733   & -2.06968022  &  1.12539855  & -0.167562675\\\\\n",
       "\t -2.1598379   & -1.52613175  & -0.55606300  &  0.567056067\\\\\n",
       "\t -0.5358167   & -0.67281055  & -0.38912513  & -0.304749838\\\\\n",
       "\t -0.3592999   & -2.77409519  &  0.38992401  & -0.181549060\\\\\n",
       "\t  2.3228076   &  0.76891250  & -0.18324373  &  1.536282468\\\\\n",
       "\t  3.8189868   &  1.69674618  & -0.02868471  &  1.640555048\\\\\n",
       "\t  5.7373808   &  0.19458968  &  0.88759595  &  0.557891160\\\\\n",
       "\t  2.2385542   &  0.03490825  &  0.59390646  &  1.470551463\\\\\n",
       "\t -0.8488250   & -2.61503643  &  0.69670061  &  0.156633923\\\\\n",
       "\t  1.1478640   & -1.58433052  &  0.32098718  &  0.004920661\\\\\n",
       "\t  0.2291718   & -0.44564715  & -0.31076547  &  1.046861814\\\\\n",
       "\t  3.4402169   &  0.20884094  &  0.23716395  & -0.382017499\\\\\n",
       "\t  2.0712608   & -1.01023177  &  0.33381405  &  1.013744026\\\\\n",
       "\t  3.9752940   & -0.05050677  &  0.31485951  &  0.888018933\\\\\n",
       "\t  2.8928071   & -0.45301296  &  0.87762814  &  1.446274696\\\\\n",
       "\t -0.7477836   & -1.91891698  &  0.42353033  & -0.226723698\\\\\n",
       "\\end{tabular}\n"
      ],
      "text/markdown": [
       "\n",
       "PC1 | PC2 | PC3 | PC4 | \n",
       "|---|---|---|---|---|---|---|---|---|---|---|---|---|---|---|---|---|---|---|---|---|---|---|---|---|---|---|---|---|---|---|---|---|---|---|---|---|---|---|---|---|---|---|---|---|---|---|---|---|---|---|---|---|---|---|---|---|---|---|---|---|\n",
       "| -5.23956541 |  1.42430797 |  1.07252192 |  0.21694813 | \n",
       "|  3.02965490 | -0.64239488 |  0.30947517 | -1.39569707 | \n",
       "|  0.88797426 | -0.31598667 |  0.47828883 |  0.70201008 | \n",
       "| -1.97214256 | -0.13884412 | -0.93391523 | -0.16890575 | \n",
       "| -3.02331511 | -0.71520248 | -1.08081970 |  0.66788909 | \n",
       "| -1.24722236 |  0.59734027 | -1.06867512 | -0.29017560 | \n",
       "| -2.40551675 | -0.80952758 | -0.82323998 | -0.00881238 | \n",
       "| -1.44940474 | -0.40023632 | -0.86598060 |  0.69126262 | \n",
       "|  5.04564641 |  1.62734464 | -0.11710254 | -2.24567997 | \n",
       "|  0.33995621 |  0.99100858 | -0.54333707 | -0.64617913 | \n",
       "|  0.32738061 |  0.41814620 | -1.25053744 |  1.06924827 | \n",
       "|  0.20958392 |  0.32132950 | -0.78071320 |  0.89616142 | \n",
       "| -2.29377889 | -0.45017156 | -0.96833483 |  0.13169356 | \n",
       "|  1.85863274 |  0.54230009 | -0.19928889 | -0.41335490 | \n",
       "| -2.34091841 | -0.27018451 | -1.10714453 |  0.27776748 | \n",
       "|  4.70537833 |  1.28127805 |  0.11288071 | -1.36866430 | \n",
       "|  2.75602927 |  0.58794852 |  0.20324580 |  0.38692836 | \n",
       "| -2.74833598 | -0.62192233 | -1.11334244 |  0.80233000 | \n",
       "| -3.58429175 |  0.60315778 |  1.43526205 |  0.26666058 | \n",
       "|  0.08750995 |  1.19082431 | -1.25035264 | -1.41875430 | \n",
       "| -1.31406878 | -0.27303647 | -0.75268127 |  0.74224533 | \n",
       "| -2.59804042 | -0.63517757 | -0.83710881 |  0.75847316 | \n",
       "|  5.27630304 |  1.32260662 |  0.71107390 |  0.01947250 | \n",
       "|  3.08626460 |  0.26655045 | -0.42283465 | -2.25582261 | \n",
       "|  1.98041179 | -0.02878812 |  0.34769483 | -0.02388302 | \n",
       "|  2.26571157 |  1.09898019 | -0.06226414 |  1.64815057 | \n",
       "|  1.17584158 |  0.55959296 | -0.17838698 |  1.15777614 | \n",
       "|  2.08754290 |  0.05542553 | -0.21571040 | -0.03258097 | \n",
       "|  0.96436531 |  0.47742150 | -0.42037861 |  0.01656399 | \n",
       "|  1.99186241 |  0.53055672 | -0.14660370 | -2.14639434 | \n",
       "| ... | ... | ... | ... | \n",
       "|  0.1663381   | -2.78960895  |  1.32377152  |  0.200448506 | \n",
       "| -0.8904782   | -2.44266659  |  0.77658712  |  0.175448336 | \n",
       "| -2.7885946   |  0.50834515  | -1.83196485  | -0.851300622 | \n",
       "|  2.6072852   |  0.29224554  | -0.04714165  |  1.535426384 | \n",
       "|  1.0000936   | -0.66842034  |  0.17071568  |  0.941592572 | \n",
       "|  2.5388167   | -0.13128705  |  0.23244711  |  1.532289569 | \n",
       "|  2.8929423   |  0.30065752  |  0.24003560  |  1.645936301 | \n",
       "|  1.7070025   | -1.93289907  |  0.98272553  | -0.402624443 | \n",
       "|  1.2702497   | -0.91917858  | -0.29744021  | -1.767704234 | \n",
       "| -1.9885367   | -0.91632226  |  2.05001086  |  0.027163795 | \n",
       "|  2.9505633   |  0.35910508  | -0.18437775  |  2.115576673 | \n",
       "|  2.3157091   |  0.51119156  |  2.51071859  |  1.287023204 | \n",
       "|  2.0437754   |  0.18028321  | -0.16160945  |  1.863957471 | \n",
       "|  2.9959868   |  0.57215058  |  0.12535722  |  2.080994174 | \n",
       "|  0.6104733   | -2.06968022  |  1.12539855  | -0.167562675 | \n",
       "| -2.1598379   | -1.52613175  | -0.55606300  |  0.567056067 | \n",
       "| -0.5358167   | -0.67281055  | -0.38912513  | -0.304749838 | \n",
       "| -0.3592999   | -2.77409519  |  0.38992401  | -0.181549060 | \n",
       "|  2.3228076   |  0.76891250  | -0.18324373  |  1.536282468 | \n",
       "|  3.8189868   |  1.69674618  | -0.02868471  |  1.640555048 | \n",
       "|  5.7373808   |  0.19458968  |  0.88759595  |  0.557891160 | \n",
       "|  2.2385542   |  0.03490825  |  0.59390646  |  1.470551463 | \n",
       "| -0.8488250   | -2.61503643  |  0.69670061  |  0.156633923 | \n",
       "|  1.1478640   | -1.58433052  |  0.32098718  |  0.004920661 | \n",
       "|  0.2291718   | -0.44564715  | -0.31076547  |  1.046861814 | \n",
       "|  3.4402169   |  0.20884094  |  0.23716395  | -0.382017499 | \n",
       "|  2.0712608   | -1.01023177  |  0.33381405  |  1.013744026 | \n",
       "|  3.9752940   | -0.05050677  |  0.31485951  |  0.888018933 | \n",
       "|  2.8928071   | -0.45301296  |  0.87762814  |  1.446274696 | \n",
       "| -0.7477836   | -1.91891698  |  0.42353033  | -0.226723698 | \n",
       "\n",
       "\n"
      ],
      "text/plain": [
       "      PC1         PC2         PC3         PC4         \n",
       " [1,] -5.23956541  1.42430797  1.07252192  0.21694813 \n",
       " [2,]  3.02965490 -0.64239488  0.30947517 -1.39569707 \n",
       " [3,]  0.88797426 -0.31598667  0.47828883  0.70201008 \n",
       " [4,] -1.97214256 -0.13884412 -0.93391523 -0.16890575 \n",
       " [5,] -3.02331511 -0.71520248 -1.08081970  0.66788909 \n",
       " [6,] -1.24722236  0.59734027 -1.06867512 -0.29017560 \n",
       " [7,] -2.40551675 -0.80952758 -0.82323998 -0.00881238 \n",
       " [8,] -1.44940474 -0.40023632 -0.86598060  0.69126262 \n",
       " [9,]  5.04564641  1.62734464 -0.11710254 -2.24567997 \n",
       "[10,]  0.33995621  0.99100858 -0.54333707 -0.64617913 \n",
       "[11,]  0.32738061  0.41814620 -1.25053744  1.06924827 \n",
       "[12,]  0.20958392  0.32132950 -0.78071320  0.89616142 \n",
       "[13,] -2.29377889 -0.45017156 -0.96833483  0.13169356 \n",
       "[14,]  1.85863274  0.54230009 -0.19928889 -0.41335490 \n",
       "[15,] -2.34091841 -0.27018451 -1.10714453  0.27776748 \n",
       "[16,]  4.70537833  1.28127805  0.11288071 -1.36866430 \n",
       "[17,]  2.75602927  0.58794852  0.20324580  0.38692836 \n",
       "[18,] -2.74833598 -0.62192233 -1.11334244  0.80233000 \n",
       "[19,] -3.58429175  0.60315778  1.43526205  0.26666058 \n",
       "[20,]  0.08750995  1.19082431 -1.25035264 -1.41875430 \n",
       "[21,] -1.31406878 -0.27303647 -0.75268127  0.74224533 \n",
       "[22,] -2.59804042 -0.63517757 -0.83710881  0.75847316 \n",
       "[23,]  5.27630304  1.32260662  0.71107390  0.01947250 \n",
       "[24,]  3.08626460  0.26655045 -0.42283465 -2.25582261 \n",
       "[25,]  1.98041179 -0.02878812  0.34769483 -0.02388302 \n",
       "[26,]  2.26571157  1.09898019 -0.06226414  1.64815057 \n",
       "[27,]  1.17584158  0.55959296 -0.17838698  1.15777614 \n",
       "[28,]  2.08754290  0.05542553 -0.21571040 -0.03258097 \n",
       "[29,]  0.96436531  0.47742150 -0.42037861  0.01656399 \n",
       "[30,]  1.99186241  0.53055672 -0.14660370 -2.14639434 \n",
       "[31,] ...         ...         ...         ...         \n",
       "[32,]  0.1663381  -2.78960895  1.32377152  0.200448506\n",
       "[33,] -0.8904782  -2.44266659  0.77658712  0.175448336\n",
       "[34,] -2.7885946   0.50834515 -1.83196485 -0.851300622\n",
       "[35,]  2.6072852   0.29224554 -0.04714165  1.535426384\n",
       "[36,]  1.0000936  -0.66842034  0.17071568  0.941592572\n",
       "[37,]  2.5388167  -0.13128705  0.23244711  1.532289569\n",
       "[38,]  2.8929423   0.30065752  0.24003560  1.645936301\n",
       "[39,]  1.7070025  -1.93289907  0.98272553 -0.402624443\n",
       "[40,]  1.2702497  -0.91917858 -0.29744021 -1.767704234\n",
       "[41,] -1.9885367  -0.91632226  2.05001086  0.027163795\n",
       "[42,]  2.9505633   0.35910508 -0.18437775  2.115576673\n",
       "[43,]  2.3157091   0.51119156  2.51071859  1.287023204\n",
       "[44,]  2.0437754   0.18028321 -0.16160945  1.863957471\n",
       "[45,]  2.9959868   0.57215058  0.12535722  2.080994174\n",
       "[46,]  0.6104733  -2.06968022  1.12539855 -0.167562675\n",
       "[47,] -2.1598379  -1.52613175 -0.55606300  0.567056067\n",
       "[48,] -0.5358167  -0.67281055 -0.38912513 -0.304749838\n",
       "[49,] -0.3592999  -2.77409519  0.38992401 -0.181549060\n",
       "[50,]  2.3228076   0.76891250 -0.18324373  1.536282468\n",
       "[51,]  3.8189868   1.69674618 -0.02868471  1.640555048\n",
       "[52,]  5.7373808   0.19458968  0.88759595  0.557891160\n",
       "[53,]  2.2385542   0.03490825  0.59390646  1.470551463\n",
       "[54,] -0.8488250  -2.61503643  0.69670061  0.156633923\n",
       "[55,]  1.1478640  -1.58433052  0.32098718  0.004920661\n",
       "[56,]  0.2291718  -0.44564715 -0.31076547  1.046861814\n",
       "[57,]  3.4402169   0.20884094  0.23716395 -0.382017499\n",
       "[58,]  2.0712608  -1.01023177  0.33381405  1.013744026\n",
       "[59,]  3.9752940  -0.05050677  0.31485951  0.888018933\n",
       "[60,]  2.8928071  -0.45301296  0.87762814  1.446274696\n",
       "[61,] -0.7477836  -1.91891698  0.42353033 -0.226723698"
      ]
     },
     "metadata": {},
     "output_type": "display_data"
    }
   ],
   "source": [
    "mydata.pr$x[,1:4]"
   ]
  },
  {
   "cell_type": "markdown",
   "metadata": {},
   "source": [
    "Bind the Calories_Activity column"
   ]
  },
  {
   "cell_type": "code",
   "execution_count": 88,
   "metadata": {},
   "outputs": [],
   "source": [
    "binded_data <- cbind(mydata.pr$x[,1:4],mydata$Calories_Activity)"
   ]
  },
  {
   "cell_type": "code",
   "execution_count": 89,
   "metadata": {},
   "outputs": [
    {
     "data": {
      "text/html": [
       "<table>\n",
       "<thead><tr><th scope=col>PC1</th><th scope=col>PC2</th><th scope=col>PC3</th><th scope=col>PC4</th><th scope=col></th></tr></thead>\n",
       "<tbody>\n",
       "\t<tr><td>-5.2395654</td><td> 1.4243080</td><td> 1.0725219</td><td> 0.2169481</td><td> 168      </td></tr>\n",
       "\t<tr><td> 3.0296549</td><td>-0.6423949</td><td> 0.3094752</td><td>-1.3956971</td><td>2248      </td></tr>\n",
       "\t<tr><td> 0.8879743</td><td>-0.3159867</td><td> 0.4782888</td><td> 0.7020101</td><td>1719      </td></tr>\n",
       "\t<tr><td>-1.9721426</td><td>-0.1388441</td><td>-0.9339152</td><td>-0.1689058</td><td> 962      </td></tr>\n",
       "\t<tr><td>-3.0233151</td><td>-0.7152025</td><td>-1.0808197</td><td> 0.6678891</td><td> 736      </td></tr>\n",
       "\t<tr><td>-1.2472224</td><td> 0.5973403</td><td>-1.0686751</td><td>-0.2901756</td><td>1094      </td></tr>\n",
       "</tbody>\n",
       "</table>\n"
      ],
      "text/latex": [
       "\\begin{tabular}{lllll}\n",
       " PC1 & PC2 & PC3 & PC4 & \\\\\n",
       "\\hline\n",
       "\t -5.2395654 &  1.4243080 &  1.0725219 &  0.2169481 &  168      \\\\\n",
       "\t  3.0296549 & -0.6423949 &  0.3094752 & -1.3956971 & 2248      \\\\\n",
       "\t  0.8879743 & -0.3159867 &  0.4782888 &  0.7020101 & 1719      \\\\\n",
       "\t -1.9721426 & -0.1388441 & -0.9339152 & -0.1689058 &  962      \\\\\n",
       "\t -3.0233151 & -0.7152025 & -1.0808197 &  0.6678891 &  736      \\\\\n",
       "\t -1.2472224 &  0.5973403 & -1.0686751 & -0.2901756 & 1094      \\\\\n",
       "\\end{tabular}\n"
      ],
      "text/markdown": [
       "\n",
       "PC1 | PC2 | PC3 | PC4 |  | \n",
       "|---|---|---|---|---|---|\n",
       "| -5.2395654 |  1.4243080 |  1.0725219 |  0.2169481 |  168       | \n",
       "|  3.0296549 | -0.6423949 |  0.3094752 | -1.3956971 | 2248       | \n",
       "|  0.8879743 | -0.3159867 |  0.4782888 |  0.7020101 | 1719       | \n",
       "| -1.9721426 | -0.1388441 | -0.9339152 | -0.1689058 |  962       | \n",
       "| -3.0233151 | -0.7152025 | -1.0808197 |  0.6678891 |  736       | \n",
       "| -1.2472224 |  0.5973403 | -1.0686751 | -0.2901756 | 1094       | \n",
       "\n",
       "\n"
      ],
      "text/plain": [
       "     PC1        PC2        PC3        PC4            \n",
       "[1,] -5.2395654  1.4243080  1.0725219  0.2169481  168\n",
       "[2,]  3.0296549 -0.6423949  0.3094752 -1.3956971 2248\n",
       "[3,]  0.8879743 -0.3159867  0.4782888  0.7020101 1719\n",
       "[4,] -1.9721426 -0.1388441 -0.9339152 -0.1689058  962\n",
       "[5,] -3.0233151 -0.7152025 -1.0808197  0.6678891  736\n",
       "[6,] -1.2472224  0.5973403 -1.0686751 -0.2901756 1094"
      ]
     },
     "metadata": {},
     "output_type": "display_data"
    }
   ],
   "source": [
    "head(binded_data)"
   ]
  },
  {
   "cell_type": "code",
   "execution_count": 90,
   "metadata": {},
   "outputs": [
    {
     "data": {
      "text/html": [
       "<ol class=list-inline>\n",
       "\t<li>'PC1'</li>\n",
       "\t<li>'PC2'</li>\n",
       "\t<li>'PC3'</li>\n",
       "\t<li>'PC4'</li>\n",
       "\t<li>''</li>\n",
       "</ol>\n"
      ],
      "text/latex": [
       "\\begin{enumerate*}\n",
       "\\item 'PC1'\n",
       "\\item 'PC2'\n",
       "\\item 'PC3'\n",
       "\\item 'PC4'\n",
       "\\item ''\n",
       "\\end{enumerate*}\n"
      ],
      "text/markdown": [
       "1. 'PC1'\n",
       "2. 'PC2'\n",
       "3. 'PC3'\n",
       "4. 'PC4'\n",
       "5. ''\n",
       "\n",
       "\n"
      ],
      "text/plain": [
       "[1] \"PC1\" \"PC2\" \"PC3\" \"PC4\" \"\"   "
      ]
     },
     "metadata": {},
     "output_type": "display_data"
    }
   ],
   "source": [
    "(colnames(binded_data))"
   ]
  },
  {
   "cell_type": "markdown",
   "metadata": {},
   "source": [
    "Since colname 5 is empty, let's give it a name"
   ]
  },
  {
   "cell_type": "code",
   "execution_count": 92,
   "metadata": {},
   "outputs": [],
   "source": [
    "colnames(binded_data)[5] <- 'Calories_Activity'"
   ]
  },
  {
   "cell_type": "markdown",
   "metadata": {},
   "source": [
    "Convert to a dataframe for linear regression"
   ]
  },
  {
   "cell_type": "code",
   "execution_count": 93,
   "metadata": {},
   "outputs": [],
   "source": [
    "binded_data_dataframe <- as.data.frame(binded_data)"
   ]
  },
  {
   "cell_type": "code",
   "execution_count": 94,
   "metadata": {},
   "outputs": [],
   "source": [
    "linearMod <- lm(Calories_Activity ~ ., data=binded_data_dataframe)"
   ]
  },
  {
   "cell_type": "code",
   "execution_count": 95,
   "metadata": {},
   "outputs": [
    {
     "data": {
      "text/plain": [
       "\n",
       "Call:\n",
       "lm(formula = Calories_Activity ~ ., data = binded_data_dataframe)\n",
       "\n",
       "Residuals:\n",
       "    Min      1Q  Median      3Q     Max \n",
       "-719.45  -35.01    6.79   36.70  468.27 \n",
       "\n",
       "Coefficients:\n",
       "            Estimate Std. Error t value Pr(>|t|)    \n",
       "(Intercept) 1484.847      5.408 274.577  < 2e-16 ***\n",
       "PC1          233.859      2.655  88.075  < 2e-16 ***\n",
       "PC2         -122.751      4.659 -26.347  < 2e-16 ***\n",
       "PC3           37.928      5.612   6.759 5.59e-11 ***\n",
       "PC4          -80.568      6.215 -12.963  < 2e-16 ***\n",
       "---\n",
       "Signif. codes:  0 '***' 0.001 '**' 0.01 '*' 0.05 '.' 0.1 ' ' 1\n",
       "\n",
       "Residual standard error: 103.6 on 362 degrees of freedom\n",
       "Multiple R-squared:  0.9599,\tAdjusted R-squared:  0.9595 \n",
       "F-statistic:  2166 on 4 and 362 DF,  p-value: < 2.2e-16\n"
      ]
     },
     "metadata": {},
     "output_type": "display_data"
    }
   ],
   "source": [
    "summary(linearMod)"
   ]
  },
  {
   "cell_type": "code",
   "execution_count": null,
   "metadata": {},
   "outputs": [],
   "source": []
  },
  {
   "cell_type": "markdown",
   "metadata": {},
   "source": [
    "With just <span style=\"color:red\">4</span> components, we received a score of 0.96.\n",
    "\n",
    "Now let's try removing the outliers and seeing if it has any effect"
   ]
  },
  {
   "cell_type": "code",
   "execution_count": 110,
   "metadata": {},
   "outputs": [
    {
     "data": {
      "image/png": "[encoded data removed]",
      "text/plain": [
       "plot without title"
      ]
     },
     "metadata": {},
     "output_type": "display_data"
    }
   ],
   "source": [
    "boxplot(mydata$Calories_Activity)"
   ]
  },
  {
   "cell_type": "markdown",
   "metadata": {},
   "source": [
    "Filtering out the rows where calories_activity are outliers"
   ]
  },
  {
   "cell_type": "code",
   "execution_count": 105,
   "metadata": {},
   "outputs": [],
   "source": [
    "new.binded_data_dataframe <- binded_data_dataframe[ which( binded_data_dataframe$Calories_Activity > 250 | binded_data_dataframe$Calories_Activity < 2600) , ]"
   ]
  },
  {
   "cell_type": "markdown",
   "metadata": {},
   "source": [
    "Running the model again"
   ]
  },
  {
   "cell_type": "code",
   "execution_count": 106,
   "metadata": {},
   "outputs": [],
   "source": [
    "linearMod_new <- lm(Calories_Activity ~ ., data=new.binded_data_dataframe)"
   ]
  },
  {
   "cell_type": "code",
   "execution_count": 107,
   "metadata": {},
   "outputs": [
    {
     "data": {
      "text/plain": [
       "\n",
       "Call:\n",
       "lm(formula = Calories_Activity ~ ., data = new.binded_data_dataframe)\n",
       "\n",
       "Residuals:\n",
       "    Min      1Q  Median      3Q     Max \n",
       "-719.45  -35.01    6.79   36.70  468.27 \n",
       "\n",
       "Coefficients:\n",
       "            Estimate Std. Error t value Pr(>|t|)    \n",
       "(Intercept) 1484.847      5.408 274.577  < 2e-16 ***\n",
       "PC1          233.859      2.655  88.075  < 2e-16 ***\n",
       "PC2         -122.751      4.659 -26.347  < 2e-16 ***\n",
       "PC3           37.928      5.612   6.759 5.59e-11 ***\n",
       "PC4          -80.568      6.215 -12.963  < 2e-16 ***\n",
       "---\n",
       "Signif. codes:  0 '***' 0.001 '**' 0.01 '*' 0.05 '.' 0.1 ' ' 1\n",
       "\n",
       "Residual standard error: 103.6 on 362 degrees of freedom\n",
       "Multiple R-squared:  0.9599,\tAdjusted R-squared:  0.9595 \n",
       "F-statistic:  2166 on 4 and 362 DF,  p-value: < 2.2e-16\n"
      ]
     },
     "metadata": {},
     "output_type": "display_data"
    }
   ],
   "source": [
    "summary(linearMod_new)"
   ]
  },
  {
   "cell_type": "code",
   "execution_count": null,
   "metadata": {},
   "outputs": [],
   "source": []
  },
  {
   "cell_type": "markdown",
   "metadata": {},
   "source": [
    "Didn't have any effect this time. Maybe we will be lucky next time"
   ]
  },
  {
   "cell_type": "code",
   "execution_count": 96,
   "metadata": {},
   "outputs": [],
   "source": [
    "mydata1 = read.csv(\"fitbit_cleaned.csv\",stringsAsFactors = FALSE)\n",
    "mydata1 = mydata1[c(-1,-2)]"
   ]
  },
  {
   "cell_type": "code",
   "execution_count": 97,
   "metadata": {},
   "outputs": [],
   "source": [
    "linearMod1 <- lm(Calories_Activity ~ ., data=mydata1)"
   ]
  },
  {
   "cell_type": "code",
   "execution_count": 98,
   "metadata": {},
   "outputs": [
    {
     "data": {
      "text/plain": [
       "\n",
       "Call:\n",
       "lm(formula = Calories_Activity ~ ., data = mydata1)\n",
       "\n",
       "Residuals:\n",
       "     Min       1Q   Median       3Q      Max \n",
       "-277.258  -24.915   -1.433   27.850  126.843 \n",
       "\n",
       "Coefficients:\n",
       "                               Estimate Std. Error t value Pr(>|t|)    \n",
       "(Intercept)                  -6.365e+02  4.923e+01 -12.930  < 2e-16 ***\n",
       "Calories                      3.150e+02  2.578e+01  12.220  < 2e-16 ***\n",
       "Steps                        -9.190e-02  1.312e-02  -7.002 1.25e-11 ***\n",
       "Distance                      1.221e+02  1.686e+01   7.238 2.80e-12 ***\n",
       "floors                       -1.669e-01  2.682e-01  -0.622    0.534    \n",
       "Minutes_sitting              -8.551e-03  8.246e-03  -1.037    0.300    \n",
       "Minutes_of_slow_activity      3.398e+00  7.351e-02  46.222  < 2e-16 ***\n",
       "Minutes_of_moderate_activity  5.085e+00  1.769e-01  28.744  < 2e-16 ***\n",
       "Minutes_of_intense_activity   6.758e+00  1.996e-01  33.858  < 2e-16 ***\n",
       "---\n",
       "Signif. codes:  0 '***' 0.001 '**' 0.01 '*' 0.05 '.' 0.1 ' ' 1\n",
       "\n",
       "Residual standard error: 44.53 on 358 degrees of freedom\n",
       "Multiple R-squared:  0.9927,\tAdjusted R-squared:  0.9925 \n",
       "F-statistic:  6062 on 8 and 358 DF,  p-value: < 2.2e-16\n"
      ]
     },
     "metadata": {},
     "output_type": "display_data"
    }
   ],
   "source": [
    "summary(linearMod1)"
   ]
  },
  {
   "cell_type": "markdown",
   "metadata": {},
   "source": [
    "## Result"
   ]
  },
  {
   "cell_type": "markdown",
   "metadata": {},
   "source": [
    "Even though the results of <span style=\"color:red\">PCR</span> were a bit off than normal LR, it did take less variables and would be faster in execution.\n",
    "\n",
    "This could also be useful when working with <span style=\"color:red\">10</span> gbs of data which could have significant variables"
   ]
  },
  {
   "cell_type": "markdown",
   "metadata": {},
   "source": [
    "## Improvements"
   ]
  },
  {
   "cell_type": "markdown",
   "metadata": {},
   "source": [
    "1. Using Regularization - Ridge, Lasso\n",
    "\n",
    "2. Feature engineering to generate new variables"
   ]
  },
  {
   "cell_type": "code",
   "execution_count": null,
   "metadata": {},
   "outputs": [],
   "source": []
  }
 ],
 "metadata": {
  "kernelspec": {
   "display_name": "R",
   "language": "R",
   "name": "ir"
  },
  "language_info": {
   "codemirror_mode": "r",
   "file_extension": ".r",
   "mimetype": "text/x-r-source",
   "name": "R",
   "pygments_lexer": "r",
   "version": "3.4.3"
  }
 },
 "nbformat": 4,
 "nbformat_minor": 2
}
